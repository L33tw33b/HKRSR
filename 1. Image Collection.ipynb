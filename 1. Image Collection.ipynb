{
 "cells": [
  {
   "cell_type": "markdown",
   "metadata": {},
   "source": [
    "# 1. Import Dependencies"
   ]
  },
  {
   "cell_type": "code",
   "execution_count": 1,
   "metadata": {},
   "outputs": [
    {
     "name": "stdout",
     "output_type": "stream",
     "text": [
      "Requirement already satisfied: opencv-python in c:\\users\\ronal\\desktop\\schoolwork_archives\\itp4514\\hong kong sign recong\\tfodcourse\\tfod\\lib\\site-packages (4.5.4.58)\n",
      "Requirement already satisfied: numpy>=1.13.3 in c:\\users\\ronal\\desktop\\schoolwork_archives\\itp4514\\hong kong sign recong\\tfodcourse\\tfod\\lib\\site-packages (from opencv-python) (1.19.5)\n"
     ]
    },
    {
     "name": "stderr",
     "output_type": "stream",
     "text": [
      "WARNING: Ignoring invalid distribution -rotobuf (c:\\users\\ronal\\desktop\\schoolwork_archives\\itp4514\\hong kong sign recong\\tfodcourse\\tfod\\lib\\site-packages)\n",
      "WARNING: Ignoring invalid distribution -rotobuf (c:\\users\\ronal\\desktop\\schoolwork_archives\\itp4514\\hong kong sign recong\\tfodcourse\\tfod\\lib\\site-packages)\n",
      "WARNING: Ignoring invalid distribution -rotobuf (c:\\users\\ronal\\desktop\\schoolwork_archives\\itp4514\\hong kong sign recong\\tfodcourse\\tfod\\lib\\site-packages)\n",
      "WARNING: Ignoring invalid distribution -rotobuf (c:\\users\\ronal\\desktop\\schoolwork_archives\\itp4514\\hong kong sign recong\\tfodcourse\\tfod\\lib\\site-packages)\n",
      "WARNING: Ignoring invalid distribution -rotobuf (c:\\users\\ronal\\desktop\\schoolwork_archives\\itp4514\\hong kong sign recong\\tfodcourse\\tfod\\lib\\site-packages)\n"
     ]
    }
   ],
   "source": [
    "!pip install opencv-python"
   ]
  },
  {
   "cell_type": "code",
   "execution_count": 2,
   "metadata": {},
   "outputs": [],
   "source": [
    "# Import opencv\n",
    "import cv2 \n",
    "\n",
    "# Import uuid\n",
    "import uuid\n",
    "\n",
    "# Import Operating System\n",
    "import os\n",
    "\n",
    "# Import time\n",
    "import time"
   ]
  },
  {
   "cell_type": "markdown",
   "metadata": {},
   "source": [
    "# 2. Define Images to Collect"
   ]
  },
  {
   "cell_type": "code",
   "execution_count": 3,
   "metadata": {},
   "outputs": [],
   "source": [
    "labels = ['nouturn', 'stop', 'nostop', 'bendtoleft','noentry']\n",
    "number_imgs = 5"
   ]
  },
  {
   "cell_type": "code",
   "execution_count": 4,
   "metadata": {},
   "outputs": [
    {
     "data": {
      "text/plain": [
       "list"
      ]
     },
     "execution_count": 4,
     "metadata": {},
     "output_type": "execute_result"
    }
   ],
   "source": [
    "type(labels)"
   ]
  },
  {
   "cell_type": "markdown",
   "metadata": {},
   "source": [
    "# 3. Setup Folders "
   ]
  },
  {
   "cell_type": "code",
   "execution_count": 5,
   "metadata": {},
   "outputs": [],
   "source": [
    "IMAGES_PATH = os.path.join('Tensorflow', 'workspace', 'images', 'collectedimages')"
   ]
  },
  {
   "cell_type": "code",
   "execution_count": 6,
   "metadata": {},
   "outputs": [
    {
     "data": {
      "text/plain": [
       "'Tensorflow\\\\workspace\\\\images\\\\collectedimages'"
      ]
     },
     "execution_count": 6,
     "metadata": {},
     "output_type": "execute_result"
    }
   ],
   "source": [
    "IMAGES_PATH"
   ]
  },
  {
   "cell_type": "code",
   "execution_count": 14,
   "metadata": {},
   "outputs": [],
   "source": [
    "if not os.path.exists(IMAGES_PATH):\n",
    "    if os.name == 'posix':\n",
    "        !mkdir -p {IMAGES_PATH}\n",
    "    if os.name == 'nt':\n",
    "         !mkdir {IMAGES_PATH}\n",
    "for label in labels:\n",
    "    path = os.path.join(IMAGES_PATH, label)\n",
    "    if not os.path.exists(path):\n",
    "        !mkdir {path}"
   ]
  },
  {
   "cell_type": "markdown",
   "metadata": {},
   "source": [
    "# 4. Capture Images"
   ]
  },
  {
   "cell_type": "code",
   "execution_count": 18,
   "metadata": {},
   "outputs": [
    {
     "name": "stdout",
     "output_type": "stream",
     "text": [
      "Collecting images for thumbsup\n",
      "Collecting image 0\n",
      "Collecting image 1\n",
      "Collecting image 2\n",
      "Collecting image 3\n",
      "Collecting image 4\n"
     ]
    }
   ],
   "source": [
    "for label in labels:\n",
    "    cap = cv2.VideoCapture(0)\n",
    "    print('Collecting images for {}'.format(label))\n",
    "    time.sleep(5)\n",
    "    for imgnum in range(number_imgs):\n",
    "        print('Collecting image {}'.format(imgnum))\n",
    "        ret, frame = cap.read()\n",
    "        imgname = os.path.join(IMAGES_PATH,label,label+'.'+'{}.jpg'.format(str(uuid.uuid1())))\n",
    "        cv2.imwrite(imgname, frame)\n",
    "        cv2.imshow('frame', frame)\n",
    "        time.sleep(2)\n",
    "\n",
    "        if cv2.waitKey(1) & 0xFF == ord('q'):\n",
    "            break\n",
    "cap.release()\n",
    "cv2.destroyAllWindows()"
   ]
  },
  {
   "cell_type": "markdown",
   "metadata": {},
   "source": [
    "# 5. Image Labelling"
   ]
  },
  {
   "cell_type": "code",
   "execution_count": 7,
   "metadata": {},
   "outputs": [
    {
     "name": "stdout",
     "output_type": "stream",
     "text": [
      "Requirement already satisfied: pyqt5 in c:\\users\\ronal\\desktop\\schoolwork_archives\\itp4514\\hong kong sign recong\\tfodcourse\\tfod\\lib\\site-packages (5.15.6)\n",
      "Requirement already satisfied: lxml in c:\\users\\ronal\\desktop\\schoolwork_archives\\itp4514\\hong kong sign recong\\tfodcourse\\tfod\\lib\\site-packages (4.6.3)\n",
      "Collecting lxml\n",
      "  Using cached lxml-4.6.4-cp36-cp36m-win_amd64.whl (3.5 MB)\n",
      "Requirement already satisfied: PyQt5-sip<13,>=12.8 in c:\\users\\ronal\\desktop\\schoolwork_archives\\itp4514\\hong kong sign recong\\tfodcourse\\tfod\\lib\\site-packages (from pyqt5) (12.9.0)\n",
      "Requirement already satisfied: PyQt5-Qt5>=5.15.2 in c:\\users\\ronal\\desktop\\schoolwork_archives\\itp4514\\hong kong sign recong\\tfodcourse\\tfod\\lib\\site-packages (from pyqt5) (5.15.2)\n",
      "Installing collected packages: lxml\n",
      "  Attempting uninstall: lxml\n",
      "    Found existing installation: lxml 4.6.3\n",
      "    Uninstalling lxml-4.6.3:\n",
      "      Successfully uninstalled lxml-4.6.3\n",
      "Successfully installed lxml-4.6.4\n"
     ]
    },
    {
     "name": "stderr",
     "output_type": "stream",
     "text": [
      "WARNING: Ignoring invalid distribution -rotobuf (c:\\users\\ronal\\desktop\\schoolwork_archives\\itp4514\\hong kong sign recong\\tfodcourse\\tfod\\lib\\site-packages)\n",
      "WARNING: Ignoring invalid distribution -rotobuf (c:\\users\\ronal\\desktop\\schoolwork_archives\\itp4514\\hong kong sign recong\\tfodcourse\\tfod\\lib\\site-packages)\n",
      "WARNING: Ignoring invalid distribution -rotobuf (c:\\users\\ronal\\desktop\\schoolwork_archives\\itp4514\\hong kong sign recong\\tfodcourse\\tfod\\lib\\site-packages)\n",
      "    WARNING: Ignoring invalid distribution -rotobuf (c:\\users\\ronal\\desktop\\schoolwork_archives\\itp4514\\hong kong sign recong\\tfodcourse\\tfod\\lib\\site-packages)\n",
      "WARNING: Ignoring invalid distribution -rotobuf (c:\\users\\ronal\\desktop\\schoolwork_archives\\itp4514\\hong kong sign recong\\tfodcourse\\tfod\\lib\\site-packages)\n",
      "WARNING: Ignoring invalid distribution -rotobuf (c:\\users\\ronal\\desktop\\schoolwork_archives\\itp4514\\hong kong sign recong\\tfodcourse\\tfod\\lib\\site-packages)\n",
      "WARNING: Ignoring invalid distribution -rotobuf (c:\\users\\ronal\\desktop\\schoolwork_archives\\itp4514\\hong kong sign recong\\tfodcourse\\tfod\\lib\\site-packages)\n"
     ]
    }
   ],
   "source": [
    "!pip install --upgrade pyqt5 lxml"
   ]
  },
  {
   "cell_type": "code",
   "execution_count": 8,
   "metadata": {},
   "outputs": [],
   "source": [
    "LABELIMG_PATH = os.path.join('Tensorflow', 'labelimg')"
   ]
  },
  {
   "cell_type": "code",
   "execution_count": 9,
   "metadata": {},
   "outputs": [],
   "source": [
    "if not os.path.exists(LABELIMG_PATH):\n",
    "    !mkdir {LABELIMG_PATH}\n",
    "    !git clone https://github.com/tzutalin/labelImg {LABELIMG_PATH}"
   ]
  },
  {
   "cell_type": "code",
   "execution_count": 10,
   "metadata": {},
   "outputs": [],
   "source": [
    "if os.name == 'posix':\n",
    "    !make qt5py3\n",
    "if os.name =='nt':\n",
    "    !cd {LABELIMG_PATH} && pyrcc5 -o libs/resources.py resources.qrc"
   ]
  },
  {
   "cell_type": "code",
   "execution_count": 11,
   "metadata": {},
   "outputs": [
    {
     "name": "stdout",
     "output_type": "stream",
     "text": [
      "Image:C:\\Users\\ronal\\Desktop\\SchoolWork_Archives\\ITP4514\\Hong Kong Sign Recong\\TFODCourse\\Tensorflow\\workspace\\images\\collectedimages\\chrome_0LyqmgZIdI.jpg -> Annotation:C:/Users/ronal/Desktop/SchoolWork_Archives/ITP4514/Hong Kong Sign Recong/TFODCourse/Tensorflow/workspace/images/collectedimages/chrome_0LyqmgZIdI.xml\n",
      "Image:C:\\Users\\ronal\\Desktop\\SchoolWork_Archives\\ITP4514\\Hong Kong Sign Recong\\TFODCourse\\Tensorflow\\workspace\\images\\collectedimages\\chrome_3TrdUoQGt7.jpg -> Annotation:C:/Users/ronal/Desktop/SchoolWork_Archives/ITP4514/Hong Kong Sign Recong/TFODCourse/Tensorflow/workspace/images/collectedimages/chrome_3TrdUoQGt7.xml\n",
      "Image:C:\\Users\\ronal\\Desktop\\SchoolWork_Archives\\ITP4514\\Hong Kong Sign Recong\\TFODCourse\\Tensorflow\\workspace\\images\\collectedimages\\chrome_70j0XSUSxX.jpg -> Annotation:C:/Users/ronal/Desktop/SchoolWork_Archives/ITP4514/Hong Kong Sign Recong/TFODCourse/Tensorflow/workspace/images/collectedimages/chrome_70j0XSUSxX.xml\n",
      "Image:C:\\Users\\ronal\\Desktop\\SchoolWork_Archives\\ITP4514\\Hong Kong Sign Recong\\TFODCourse\\Tensorflow\\workspace\\images\\collectedimages\\chrome_4RPi1dynTc.jpg -> Annotation:C:/Users/ronal/Desktop/SchoolWork_Archives/ITP4514/Hong Kong Sign Recong/TFODCourse/Tensorflow/workspace/images/collectedimages/chrome_4RPi1dynTc.xml\n",
      "Image:C:\\Users\\ronal\\Desktop\\SchoolWork_Archives\\ITP4514\\Hong Kong Sign Recong\\TFODCourse\\Tensorflow\\workspace\\images\\collectedimages\\chrome_aVSFouPY8X.jpg -> Annotation:C:/Users/ronal/Desktop/SchoolWork_Archives/ITP4514/Hong Kong Sign Recong/TFODCourse/Tensorflow/workspace/images/collectedimages/chrome_aVSFouPY8X.xml\n",
      "Image:C:\\Users\\ronal\\Desktop\\SchoolWork_Archives\\ITP4514\\Hong Kong Sign Recong\\TFODCourse\\Tensorflow\\workspace\\images\\collectedimages\\chrome_BV1n2lT0CQ.jpg -> Annotation:C:/Users/ronal/Desktop/SchoolWork_Archives/ITP4514/Hong Kong Sign Recong/TFODCourse/Tensorflow/workspace/images/collectedimages/chrome_BV1n2lT0CQ.xml\n",
      "Image:C:\\Users\\ronal\\Desktop\\SchoolWork_Archives\\ITP4514\\Hong Kong Sign Recong\\TFODCourse\\Tensorflow\\workspace\\images\\collectedimages\\chrome_cWCjISY3VL.jpg -> Annotation:C:/Users/ronal/Desktop/SchoolWork_Archives/ITP4514/Hong Kong Sign Recong/TFODCourse/Tensorflow/workspace/images/collectedimages/chrome_cWCjISY3VL.xml\n",
      "Image:C:\\Users\\ronal\\Desktop\\SchoolWork_Archives\\ITP4514\\Hong Kong Sign Recong\\TFODCourse\\Tensorflow\\workspace\\images\\collectedimages\\chrome_EBi92WQr5B.jpg -> Annotation:C:/Users/ronal/Desktop/SchoolWork_Archives/ITP4514/Hong Kong Sign Recong/TFODCourse/Tensorflow/workspace/images/collectedimages/chrome_EBi92WQr5B.xml\n",
      "Image:C:\\Users\\ronal\\Desktop\\SchoolWork_Archives\\ITP4514\\Hong Kong Sign Recong\\TFODCourse\\Tensorflow\\workspace\\images\\collectedimages\\chrome_fOENMi3s4C.jpg -> Annotation:C:/Users/ronal/Desktop/SchoolWork_Archives/ITP4514/Hong Kong Sign Recong/TFODCourse/Tensorflow/workspace/images/collectedimages/chrome_fOENMi3s4C.xml\n",
      "Image:C:\\Users\\ronal\\Desktop\\SchoolWork_Archives\\ITP4514\\Hong Kong Sign Recong\\TFODCourse\\Tensorflow\\workspace\\images\\collectedimages\\chrome_Fz7TwidDTh.jpg -> Annotation:C:/Users/ronal/Desktop/SchoolWork_Archives/ITP4514/Hong Kong Sign Recong/TFODCourse/Tensorflow/workspace/images/collectedimages/chrome_Fz7TwidDTh.xml\n",
      "Image:C:\\Users\\ronal\\Desktop\\SchoolWork_Archives\\ITP4514\\Hong Kong Sign Recong\\TFODCourse\\Tensorflow\\workspace\\images\\collectedimages\\chrome_fOENMi3s4C.jpg -> Annotation:C:/Users/ronal/Desktop/SchoolWork_Archives/ITP4514/Hong Kong Sign Recong/TFODCourse/Tensorflow/workspace/images/collectedimages/chrome_fOENMi3s4C.xml\n",
      "Image:C:\\Users\\ronal\\Desktop\\SchoolWork_Archives\\ITP4514\\Hong Kong Sign Recong\\TFODCourse\\Tensorflow\\workspace\\images\\collectedimages\\chrome_eVkDcWSvqs.jpg -> Annotation:C:/Users/ronal/Desktop/SchoolWork_Archives/ITP4514/Hong Kong Sign Recong/TFODCourse/Tensorflow/workspace/images/collectedimages/chrome_eVkDcWSvqs.xml\n",
      "Cancel creation.\n",
      "Image:C:\\Users\\ronal\\Desktop\\SchoolWork_Archives\\ITP4514\\Hong Kong Sign Recong\\TFODCourse\\Tensorflow\\workspace\\images\\collectedimages\\chrome_Gl8nwhaVcg.jpg -> Annotation:C:/Users/ronal/Desktop/SchoolWork_Archives/ITP4514/Hong Kong Sign Recong/TFODCourse/Tensorflow/workspace/images/collectedimages/chrome_Gl8nwhaVcg.xml\n",
      "Image:C:\\Users\\ronal\\Desktop\\SchoolWork_Archives\\ITP4514\\Hong Kong Sign Recong\\TFODCourse\\Tensorflow\\workspace\\images\\collectedimages\\chrome_HZtKObgBp4.jpg -> Annotation:C:/Users/ronal/Desktop/SchoolWork_Archives/ITP4514/Hong Kong Sign Recong/TFODCourse/Tensorflow/workspace/images/collectedimages/chrome_HZtKObgBp4.xml\n",
      "Image:C:\\Users\\ronal\\Desktop\\SchoolWork_Archives\\ITP4514\\Hong Kong Sign Recong\\TFODCourse\\Tensorflow\\workspace\\images\\collectedimages\\chrome_irfGiu9195.jpg -> Annotation:C:/Users/ronal/Desktop/SchoolWork_Archives/ITP4514/Hong Kong Sign Recong/TFODCourse/Tensorflow/workspace/images/collectedimages/chrome_irfGiu9195.xml\n",
      "Image:C:\\Users\\ronal\\Desktop\\SchoolWork_Archives\\ITP4514\\Hong Kong Sign Recong\\TFODCourse\\Tensorflow\\workspace\\images\\collectedimages\\chrome_KMBOXwGEXH.jpg -> Annotation:C:/Users/ronal/Desktop/SchoolWork_Archives/ITP4514/Hong Kong Sign Recong/TFODCourse/Tensorflow/workspace/images/collectedimages/chrome_KMBOXwGEXH.xml\n",
      "Cancel creation.\n",
      "Image:C:\\Users\\ronal\\Desktop\\SchoolWork_Archives\\ITP4514\\Hong Kong Sign Recong\\TFODCourse\\Tensorflow\\workspace\\images\\collectedimages\\chrome_Lf9RkFoSjX.jpg -> Annotation:C:/Users/ronal/Desktop/SchoolWork_Archives/ITP4514/Hong Kong Sign Recong/TFODCourse/Tensorflow/workspace/images/collectedimages/chrome_Lf9RkFoSjX.xml\n",
      "Image:C:\\Users\\ronal\\Desktop\\SchoolWork_Archives\\ITP4514\\Hong Kong Sign Recong\\TFODCourse\\Tensorflow\\workspace\\images\\collectedimages\\chrome_lfJGlDTcMu.jpg -> Annotation:C:/Users/ronal/Desktop/SchoolWork_Archives/ITP4514/Hong Kong Sign Recong/TFODCourse/Tensorflow/workspace/images/collectedimages/chrome_lfJGlDTcMu.xml\n",
      "Image:C:\\Users\\ronal\\Desktop\\SchoolWork_Archives\\ITP4514\\Hong Kong Sign Recong\\TFODCourse\\Tensorflow\\workspace\\images\\collectedimages\\chrome_LP89TqRZrl.jpg -> Annotation:C:/Users/ronal/Desktop/SchoolWork_Archives/ITP4514/Hong Kong Sign Recong/TFODCourse/Tensorflow/workspace/images/collectedimages/chrome_LP89TqRZrl.xml\n",
      "Image:C:\\Users\\ronal\\Desktop\\SchoolWork_Archives\\ITP4514\\Hong Kong Sign Recong\\TFODCourse\\Tensorflow\\workspace\\images\\collectedimages\\chrome_m5hqeXNX7C.jpg -> Annotation:C:/Users/ronal/Desktop/SchoolWork_Archives/ITP4514/Hong Kong Sign Recong/TFODCourse/Tensorflow/workspace/images/collectedimages/chrome_m5hqeXNX7C.xml\n",
      "Image:C:\\Users\\ronal\\Desktop\\SchoolWork_Archives\\ITP4514\\Hong Kong Sign Recong\\TFODCourse\\Tensorflow\\workspace\\images\\collectedimages\\chrome_M9k6znq5kJ.jpg -> Annotation:C:/Users/ronal/Desktop/SchoolWork_Archives/ITP4514/Hong Kong Sign Recong/TFODCourse/Tensorflow/workspace/images/collectedimages/chrome_M9k6znq5kJ.xml\n",
      "Image:C:\\Users\\ronal\\Desktop\\SchoolWork_Archives\\ITP4514\\Hong Kong Sign Recong\\TFODCourse\\Tensorflow\\workspace\\images\\collectedimages\\chrome_MagSSrEWA8.jpg -> Annotation:C:/Users/ronal/Desktop/SchoolWork_Archives/ITP4514/Hong Kong Sign Recong/TFODCourse/Tensorflow/workspace/images/collectedimages/chrome_MagSSrEWA8.xml\n",
      "Image:C:\\Users\\ronal\\Desktop\\SchoolWork_Archives\\ITP4514\\Hong Kong Sign Recong\\TFODCourse\\Tensorflow\\workspace\\images\\collectedimages\\chrome_Myxm6ndqQI.jpg -> Annotation:C:/Users/ronal/Desktop/SchoolWork_Archives/ITP4514/Hong Kong Sign Recong/TFODCourse/Tensorflow/workspace/images/collectedimages/chrome_Myxm6ndqQI.xml\n",
      "Image:C:\\Users\\ronal\\Desktop\\SchoolWork_Archives\\ITP4514\\Hong Kong Sign Recong\\TFODCourse\\Tensorflow\\workspace\\images\\collectedimages\\chrome_nizOFS9qxY.jpg -> Annotation:C:/Users/ronal/Desktop/SchoolWork_Archives/ITP4514/Hong Kong Sign Recong/TFODCourse/Tensorflow/workspace/images/collectedimages/chrome_nizOFS9qxY.xml\n",
      "Image:C:\\Users\\ronal\\Desktop\\SchoolWork_Archives\\ITP4514\\Hong Kong Sign Recong\\TFODCourse\\Tensorflow\\workspace\\images\\collectedimages\\chrome_NnUiVRBKru.jpg -> Annotation:C:/Users/ronal/Desktop/SchoolWork_Archives/ITP4514/Hong Kong Sign Recong/TFODCourse/Tensorflow/workspace/images/collectedimages/chrome_NnUiVRBKru.xml\n",
      "Image:C:\\Users\\ronal\\Desktop\\SchoolWork_Archives\\ITP4514\\Hong Kong Sign Recong\\TFODCourse\\Tensorflow\\workspace\\images\\collectedimages\\chrome_oDShk0Y3Vo.jpg -> Annotation:C:/Users/ronal/Desktop/SchoolWork_Archives/ITP4514/Hong Kong Sign Recong/TFODCourse/Tensorflow/workspace/images/collectedimages/chrome_oDShk0Y3Vo.xml\n",
      "Image:C:\\Users\\ronal\\Desktop\\SchoolWork_Archives\\ITP4514\\Hong Kong Sign Recong\\TFODCourse\\Tensorflow\\workspace\\images\\collectedimages\\chrome_onhE53X2OF.jpg -> Annotation:C:/Users/ronal/Desktop/SchoolWork_Archives/ITP4514/Hong Kong Sign Recong/TFODCourse/Tensorflow/workspace/images/collectedimages/chrome_onhE53X2OF.xml\n",
      "Image:C:\\Users\\ronal\\Desktop\\SchoolWork_Archives\\ITP4514\\Hong Kong Sign Recong\\TFODCourse\\Tensorflow\\workspace\\images\\collectedimages\\chrome_oOIF3EBo3X.jpg -> Annotation:C:/Users/ronal/Desktop/SchoolWork_Archives/ITP4514/Hong Kong Sign Recong/TFODCourse/Tensorflow/workspace/images/collectedimages/chrome_oOIF3EBo3X.xml\n",
      "Image:C:\\Users\\ronal\\Desktop\\SchoolWork_Archives\\ITP4514\\Hong Kong Sign Recong\\TFODCourse\\Tensorflow\\workspace\\images\\collectedimages\\chrome_P41Zo8JyNQ.jpg -> Annotation:C:/Users/ronal/Desktop/SchoolWork_Archives/ITP4514/Hong Kong Sign Recong/TFODCourse/Tensorflow/workspace/images/collectedimages/chrome_P41Zo8JyNQ.xml\n",
      "Image:C:\\Users\\ronal\\Desktop\\SchoolWork_Archives\\ITP4514\\Hong Kong Sign Recong\\TFODCourse\\Tensorflow\\workspace\\images\\collectedimages\\chrome_qdfXcCNRHL.jpg -> Annotation:C:/Users/ronal/Desktop/SchoolWork_Archives/ITP4514/Hong Kong Sign Recong/TFODCourse/Tensorflow/workspace/images/collectedimages/chrome_qdfXcCNRHL.xml\n",
      "Image:C:\\Users\\ronal\\Desktop\\SchoolWork_Archives\\ITP4514\\Hong Kong Sign Recong\\TFODCourse\\Tensorflow\\workspace\\images\\collectedimages\\chrome_qV4pnYPKnY.jpg -> Annotation:C:/Users/ronal/Desktop/SchoolWork_Archives/ITP4514/Hong Kong Sign Recong/TFODCourse/Tensorflow/workspace/images/collectedimages/chrome_qV4pnYPKnY.xml\n",
      "Image:C:\\Users\\ronal\\Desktop\\SchoolWork_Archives\\ITP4514\\Hong Kong Sign Recong\\TFODCourse\\Tensorflow\\workspace\\images\\collectedimages\\chrome_rnpWe1HZS5.jpg -> Annotation:C:/Users/ronal/Desktop/SchoolWork_Archives/ITP4514/Hong Kong Sign Recong/TFODCourse/Tensorflow/workspace/images/collectedimages/chrome_rnpWe1HZS5.xml\n",
      "Image:C:\\Users\\ronal\\Desktop\\SchoolWork_Archives\\ITP4514\\Hong Kong Sign Recong\\TFODCourse\\Tensorflow\\workspace\\images\\collectedimages\\chrome_SeUXAW1OFr.jpg -> Annotation:C:/Users/ronal/Desktop/SchoolWork_Archives/ITP4514/Hong Kong Sign Recong/TFODCourse/Tensorflow/workspace/images/collectedimages/chrome_SeUXAW1OFr.xml\n",
      "Image:C:\\Users\\ronal\\Desktop\\SchoolWork_Archives\\ITP4514\\Hong Kong Sign Recong\\TFODCourse\\Tensorflow\\workspace\\images\\collectedimages\\chrome_tOcVVo4VdT.jpg -> Annotation:C:/Users/ronal/Desktop/SchoolWork_Archives/ITP4514/Hong Kong Sign Recong/TFODCourse/Tensorflow/workspace/images/collectedimages/chrome_tOcVVo4VdT.xml\n",
      "Image:C:\\Users\\ronal\\Desktop\\SchoolWork_Archives\\ITP4514\\Hong Kong Sign Recong\\TFODCourse\\Tensorflow\\workspace\\images\\collectedimages\\chrome_tWnS5rneXu.jpg -> Annotation:C:/Users/ronal/Desktop/SchoolWork_Archives/ITP4514/Hong Kong Sign Recong/TFODCourse/Tensorflow/workspace/images/collectedimages/chrome_tWnS5rneXu.xml\n",
      "Image:C:\\Users\\ronal\\Desktop\\SchoolWork_Archives\\ITP4514\\Hong Kong Sign Recong\\TFODCourse\\Tensorflow\\workspace\\images\\collectedimages\\chrome_U1ihQPfhVI.jpg -> Annotation:C:/Users/ronal/Desktop/SchoolWork_Archives/ITP4514/Hong Kong Sign Recong/TFODCourse/Tensorflow/workspace/images/collectedimages/chrome_U1ihQPfhVI.xml\n",
      "Image:C:\\Users\\ronal\\Desktop\\SchoolWork_Archives\\ITP4514\\Hong Kong Sign Recong\\TFODCourse\\Tensorflow\\workspace\\images\\collectedimages\\chrome_v9RzNEinkq.jpg -> Annotation:C:/Users/ronal/Desktop/SchoolWork_Archives/ITP4514/Hong Kong Sign Recong/TFODCourse/Tensorflow/workspace/images/collectedimages/chrome_v9RzNEinkq.xml\n",
      "Image:C:\\Users\\ronal\\Desktop\\SchoolWork_Archives\\ITP4514\\Hong Kong Sign Recong\\TFODCourse\\Tensorflow\\workspace\\images\\collectedimages\\chrome_xrEEaWOpA7.jpg -> Annotation:C:/Users/ronal/Desktop/SchoolWork_Archives/ITP4514/Hong Kong Sign Recong/TFODCourse/Tensorflow/workspace/images/collectedimages/chrome_xrEEaWOpA7.xml\n",
      "Image:C:\\Users\\ronal\\Desktop\\SchoolWork_Archives\\ITP4514\\Hong Kong Sign Recong\\TFODCourse\\Tensorflow\\workspace\\images\\collectedimages\\chrome_zeqyCYlTDJ.jpg -> Annotation:C:/Users/ronal/Desktop/SchoolWork_Archives/ITP4514/Hong Kong Sign Recong/TFODCourse/Tensorflow/workspace/images/collectedimages/chrome_zeqyCYlTDJ.xml\n",
      "Image:C:\\Users\\ronal\\Desktop\\SchoolWork_Archives\\ITP4514\\Hong Kong Sign Recong\\TFODCourse\\Tensorflow\\workspace\\images\\collectedimages\\chrome_zyOysQfJoz.jpg -> Annotation:C:/Users/ronal/Desktop/SchoolWork_Archives/ITP4514/Hong Kong Sign Recong/TFODCourse/Tensorflow/workspace/images/collectedimages/chrome_zyOysQfJoz.xml\n"
     ]
    },
    {
     "name": "stderr",
     "output_type": "stream",
     "text": [
      "Warning: QT_DEVICE_PIXEL_RATIO is deprecated. Instead use:\n",
      "   QT_AUTO_SCREEN_SCALE_FACTOR to enable platform plugin controlled per-screen factors.\n",
      "   QT_SCREEN_SCALE_FACTORS to set per-screen DPI.\n",
      "   QT_SCALE_FACTOR to set the application global scale factor.\n"
     ]
    }
   ],
   "source": [
    "!cd {LABELIMG_PATH} && python labelImg.py"
   ]
  },
  {
   "cell_type": "markdown",
   "metadata": {},
   "source": [
    "# 6. Move them into a Training and Testing Partition"
   ]
  },
  {
   "cell_type": "markdown",
   "metadata": {},
   "source": [
    "# OPTIONAL - 7. Compress them for Colab Training"
   ]
  },
  {
   "cell_type": "code",
   "execution_count": 20,
   "metadata": {},
   "outputs": [],
   "source": [
    "TRAIN_PATH = os.path.join('Tensorflow', 'workspace', 'images', 'train')\n",
    "TEST_PATH = os.path.join('Tensorflow', 'workspace', 'images', 'test')\n",
    "ARCHIVE_PATH = os.path.join('Tensorflow', 'workspace', 'images', 'archive.tar.gz')"
   ]
  },
  {
   "cell_type": "code",
   "execution_count": 21,
   "metadata": {},
   "outputs": [],
   "source": [
    "!tar -czf {ARCHIVE_PATH} {TRAIN_PATH} {TEST_PATH}"
   ]
  },
  {
   "cell_type": "code",
   "execution_count": null,
   "metadata": {},
   "outputs": [],
   "source": []
  }
 ],
 "metadata": {
  "kernelspec": {
   "display_name": "tfodj",
   "language": "python",
   "name": "tfodj"
  },
  "language_info": {
   "codemirror_mode": {
    "name": "ipython",
    "version": 3
   },
   "file_extension": ".py",
   "mimetype": "text/x-python",
   "name": "python",
   "nbconvert_exporter": "python",
   "pygments_lexer": "ipython3",
   "version": "3.6.7"
  }
 },
 "nbformat": 4,
 "nbformat_minor": 2
}
